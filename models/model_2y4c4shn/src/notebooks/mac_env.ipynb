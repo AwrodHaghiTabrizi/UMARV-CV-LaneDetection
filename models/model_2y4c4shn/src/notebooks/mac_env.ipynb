{
 "cells": [
  {
   "cell_type": "markdown",
   "metadata": {},
   "source": [
    "Import libraries"
   ]
  },
  {
   "cell_type": "code",
   "execution_count": 2,
   "metadata": {
    "colab": {
     "base_uri": "https://localhost:8080/"
    },
    "id": "6YXxEdBDMFwU",
    "outputId": "6309c12d-63f7-4f18-c2d3-a4dcdf549342"
   },
   "outputs": [],
   "source": [
    "import os\n",
    "from getpass import getpass\n",
    "import git\n",
    "import torch.optim as optim\n",
    "import sys #for sys.path.append"
   ]
  },
  {
   "cell_type": "markdown",
   "metadata": {},
   "source": [
    "Configure environment"
   ]
  },
  {
   "cell_type": "code",
   "execution_count": 3,
   "metadata": {},
   "outputs": [],
   "source": [
    "os.environ[\"ENVIRONMENT\"] = \"mac\"\n",
    "os.environ[\"REPO_DIR\"] = git.Repo(search_parent_directories=True).git.rev_parse(\"--show-toplevel\")\n",
    "os.environ[\"ROOT_DIR\"] = os.path.abspath(os.path.join(os.getenv(\"REPO_DIR\"), os.pardir))\n",
    "os.environ[\"MODEL_ID\"] = \"2y4c4shn\"\n",
    "os.environ[\"MODEL_DIR\"] = f\"{os.getenv('REPO_DIR')}/models/model_{os.getenv('MODEL_ID')}\""
   ]
  },
  {
   "cell_type": "markdown",
   "metadata": {},
   "source": [
    "Import Repository Resources"
   ]
  },
  {
   "cell_type": "code",
   "execution_count": 4,
   "metadata": {},
   "outputs": [],
   "source": [
    "sys.path.append(f\"{os.getenv('REPO_DIR')}/src\")\n",
    "from helpers import *\n",
    "from helpers import download_datasets_from_dropbox #this isn't importing\n",
    "\n",
    "sys.path.append(f\"{os.getenv('MODEL_DIR')}/src\")\n",
    "from methods import *\n",
    "from architecture import *\n",
    "from dataset import *"
   ]
  },
  {
   "cell_type": "markdown",
   "metadata": {},
   "source": [
    "Download Datasets"
   ]
  },
  {
   "cell_type": "code",
   "execution_count": 9,
   "metadata": {},
   "outputs": [],
   "source": [
    "dbx_access_token = getpass(\"Enter your DropBox access token: \")\n"
   ]
  },
  {
   "cell_type": "code",
   "execution_count": 10,
   "metadata": {},
   "outputs": [
    {
     "data": {
      "application/vnd.jupyter.widget-view+json": {
       "model_id": "c8c9cbc123f64e188263ba7a0482b7e7",
       "version_major": 2,
       "version_minor": 0
      },
      "text/plain": [
       "Downloading /UMARV/ComputerVision/LaneDetection/datasets//unity/bug_parking_lot_7 ::   0%|          | 0/2 [00:…"
      ]
     },
     "metadata": {},
     "output_type": "display_data"
    },
    {
     "data": {
      "application/vnd.jupyter.widget-view+json": {
       "model_id": "6a004840fccc4c74a70797349cb6e0ed",
       "version_major": 2,
       "version_minor": 0
      },
      "text/plain": [
       "Downloading /UMARV/ComputerVision/LaneDetection/datasets/unity/BUG_parking_lot_7/label ::   0%|          | 0/5…"
      ]
     },
     "metadata": {},
     "output_type": "display_data"
    },
    {
     "data": {
      "application/vnd.jupyter.widget-view+json": {
       "model_id": "d6b07118a6e14850b21c927f127df6af",
       "version_major": 2,
       "version_minor": 0
      },
      "text/plain": [
       "Downloading /UMARV/ComputerVision/LaneDetection/datasets/unity/BUG_parking_lot_7/data ::   0%|          | 0/50…"
      ]
     },
     "metadata": {},
     "output_type": "display_data"
    },
    {
     "data": {
      "application/vnd.jupyter.widget-view+json": {
       "model_id": "f4ab719b76164176a9ecfcc4b0841a78",
       "version_major": 2,
       "version_minor": 0
      },
      "text/plain": [
       "Downloading /UMARV/ComputerVision/LaneDetection/datasets//unity/bug_parking_lot_3 ::   0%|          | 0/2 [00:…"
      ]
     },
     "metadata": {},
     "output_type": "display_data"
    },
    {
     "data": {
      "application/vnd.jupyter.widget-view+json": {
       "model_id": "3c93949a518e495b81ee760ca0006b94",
       "version_major": 2,
       "version_minor": 0
      },
      "text/plain": [
       "Downloading /UMARV/ComputerVision/LaneDetection/datasets/unity/BUG_parking_lot_3/data ::   0%|          | 0/30…"
      ]
     },
     "metadata": {},
     "output_type": "display_data"
    },
    {
     "data": {
      "application/vnd.jupyter.widget-view+json": {
       "model_id": "61068d2803564da3abb6ff20bb030c53",
       "version_major": 2,
       "version_minor": 0
      },
      "text/plain": [
       "Downloading /UMARV/ComputerVision/LaneDetection/datasets/unity/BUG_parking_lot_3/label ::   0%|          | 0/3…"
      ]
     },
     "metadata": {},
     "output_type": "display_data"
    }
   ],
   "source": [
    "download_datasets_from_dropbox(\n",
    "     dbx_access_token = dbx_access_token,\n",
    "     include_all_datasets = True,\n",
    "     use_thread = True,\n",
    "     include_real_world_datasets = True,\n",
    "     include_benchmarks = True\n",
    ")"
   ]
  },
  {
   "cell_type": "markdown",
   "metadata": {
    "id": "xh4-Gg6vL2R3"
   },
   "source": [
    "Code"
   ]
  },
  {
   "cell_type": "code",
   "execution_count": null,
   "metadata": {
    "id": "0t0BM_lS_6yq"
   },
   "outputs": [],
   "source": [
    "num_epochs = 15\n",
    "batch_size = 32\n",
    "val_size = 50"
   ]
  },
  {
   "cell_type": "code",
   "execution_count": null,
   "metadata": {},
   "outputs": [
    {
     "name": "stdout",
     "output_type": "stream",
     "text": [
      "Could not find GPU! Using CPU only.\n",
      "Could not download model weights. Using default weights.\n"
     ]
    },
    {
     "ename": "ValueError",
     "evalue": "With n_samples=0, test_size=0.2 and train_size=None, the resulting train set will be empty. Adjust any of the aforementioned parameters.",
     "output_type": "error",
     "traceback": [
      "\u001b[0;31m---------------------------------------------------------------------------\u001b[0m",
      "\u001b[0;31mValueError\u001b[0m                                Traceback (most recent call last)",
      "\u001b[1;32m/Users/parsanna/Desktop/Projects/UMARV/2023-2024/LaneDetection/UMARV-CV-LaneDetection/models/model_2y4c4shn/src/notebooks/mac_env.ipynb Cell 12\u001b[0m line \u001b[0;36m4\n\u001b[1;32m      <a href='vscode-notebook-cell:/Users/parsanna/Desktop/Projects/UMARV/2023-2024/LaneDetection/UMARV-CV-LaneDetection/models/model_2y4c4shn/src/notebooks/mac_env.ipynb#X14sZmlsZQ%3D%3D?line=0'>1</a>\u001b[0m device \u001b[39m=\u001b[39m set_device()\n\u001b[1;32m      <a href='vscode-notebook-cell:/Users/parsanna/Desktop/Projects/UMARV/2023-2024/LaneDetection/UMARV-CV-LaneDetection/models/model_2y4c4shn/src/notebooks/mac_env.ipynb#X14sZmlsZQ%3D%3D?line=1'>2</a>\u001b[0m model \u001b[39m=\u001b[39m initialize_model(device\u001b[39m=\u001b[39mdevice, dbx_access_token\u001b[39m=\u001b[39mdbx_access_token)\n\u001b[0;32m----> <a href='vscode-notebook-cell:/Users/parsanna/Desktop/Projects/UMARV/2023-2024/LaneDetection/UMARV-CV-LaneDetection/models/model_2y4c4shn/src/notebooks/mac_env.ipynb#X14sZmlsZQ%3D%3D?line=3'>4</a>\u001b[0m train_dataset, val_dataset, benchmark_dataset \u001b[39m=\u001b[39m create_datasets(\n\u001b[1;32m      <a href='vscode-notebook-cell:/Users/parsanna/Desktop/Projects/UMARV/2023-2024/LaneDetection/UMARV-CV-LaneDetection/models/model_2y4c4shn/src/notebooks/mac_env.ipynb#X14sZmlsZQ%3D%3D?line=4'>5</a>\u001b[0m     device \u001b[39m=\u001b[39;49m device,\n\u001b[1;32m      <a href='vscode-notebook-cell:/Users/parsanna/Desktop/Projects/UMARV/2023-2024/LaneDetection/UMARV-CV-LaneDetection/models/model_2y4c4shn/src/notebooks/mac_env.ipynb#X14sZmlsZQ%3D%3D?line=5'>6</a>\u001b[0m     include_all_datasets \u001b[39m=\u001b[39;49m \u001b[39mTrue\u001b[39;49;00m\n\u001b[1;32m      <a href='vscode-notebook-cell:/Users/parsanna/Desktop/Projects/UMARV/2023-2024/LaneDetection/UMARV-CV-LaneDetection/models/model_2y4c4shn/src/notebooks/mac_env.ipynb#X14sZmlsZQ%3D%3D?line=6'>7</a>\u001b[0m )\n\u001b[1;32m      <a href='vscode-notebook-cell:/Users/parsanna/Desktop/Projects/UMARV/2023-2024/LaneDetection/UMARV-CV-LaneDetection/models/model_2y4c4shn/src/notebooks/mac_env.ipynb#X14sZmlsZQ%3D%3D?line=8'>9</a>\u001b[0m train_dataloader, val_dataloader, benchmark_dataloader \u001b[39m=\u001b[39m create_dataloaders(\n\u001b[1;32m     <a href='vscode-notebook-cell:/Users/parsanna/Desktop/Projects/UMARV/2023-2024/LaneDetection/UMARV-CV-LaneDetection/models/model_2y4c4shn/src/notebooks/mac_env.ipynb#X14sZmlsZQ%3D%3D?line=9'>10</a>\u001b[0m     train_dataset \u001b[39m=\u001b[39m train_dataset,\n\u001b[1;32m     <a href='vscode-notebook-cell:/Users/parsanna/Desktop/Projects/UMARV/2023-2024/LaneDetection/UMARV-CV-LaneDetection/models/model_2y4c4shn/src/notebooks/mac_env.ipynb#X14sZmlsZQ%3D%3D?line=10'>11</a>\u001b[0m     val_dataset \u001b[39m=\u001b[39m val_dataset,\n\u001b[0;32m   (...)\u001b[0m\n\u001b[1;32m     <a href='vscode-notebook-cell:/Users/parsanna/Desktop/Projects/UMARV/2023-2024/LaneDetection/UMARV-CV-LaneDetection/models/model_2y4c4shn/src/notebooks/mac_env.ipynb#X14sZmlsZQ%3D%3D?line=13'>14</a>\u001b[0m     val_size \u001b[39m=\u001b[39m val_size\n\u001b[1;32m     <a href='vscode-notebook-cell:/Users/parsanna/Desktop/Projects/UMARV/2023-2024/LaneDetection/UMARV-CV-LaneDetection/models/model_2y4c4shn/src/notebooks/mac_env.ipynb#X14sZmlsZQ%3D%3D?line=14'>15</a>\u001b[0m )\n\u001b[1;32m     <a href='vscode-notebook-cell:/Users/parsanna/Desktop/Projects/UMARV/2023-2024/LaneDetection/UMARV-CV-LaneDetection/models/model_2y4c4shn/src/notebooks/mac_env.ipynb#X14sZmlsZQ%3D%3D?line=16'>17</a>\u001b[0m optimizer \u001b[39m=\u001b[39m optim\u001b[39m.\u001b[39mSGD(model\u001b[39m.\u001b[39mparameters(), lr\u001b[39m=\u001b[39m\u001b[39m0.01\u001b[39m, momentum\u001b[39m=\u001b[39m\u001b[39m0.9\u001b[39m)\n",
      "File \u001b[0;32m~/Desktop/Projects/UMARV/2023-2024/LaneDetection/UMARV-CV-LaneDetection/models/model_2y4c4shn/src/methods.py:131\u001b[0m, in \u001b[0;36mcreate_datasets\u001b[0;34m(device, datasets, benchmarks, include_all_datasets, include_unity_datasets, include_real_world_datasets, val_ratio)\u001b[0m\n\u001b[1;32m    128\u001b[0m all_train_val_label_dirs \u001b[39m=\u001b[39m [re\u001b[39m.\u001b[39msub(\u001b[39mr\u001b[39m\u001b[39m'\u001b[39m\u001b[39m\\\u001b[39m\u001b[39mbdata\u001b[39m\u001b[39m\\\u001b[39m\u001b[39mb\u001b[39m\u001b[39m'\u001b[39m, \u001b[39m'\u001b[39m\u001b[39mlabel\u001b[39m\u001b[39m'\u001b[39m, data_dir) \u001b[39mfor\u001b[39;00m data_dir \u001b[39min\u001b[39;00m all_train_val_data_dirs]\n\u001b[1;32m    130\u001b[0m \u001b[39m# Split into train and val\u001b[39;00m\n\u001b[0;32m--> 131\u001b[0m train_data_dirs, val_data_dirs, train_label_dirs, val_label_dirs \u001b[39m=\u001b[39m train_test_split(\n\u001b[1;32m    132\u001b[0m     all_train_val_data_dirs, all_train_val_label_dirs, test_size\u001b[39m=\u001b[39;49mval_ratio, random_state\u001b[39m=\u001b[39;49mrandom\u001b[39m.\u001b[39;49mrandint(\u001b[39m1\u001b[39;49m, \u001b[39m100\u001b[39;49m)\n\u001b[1;32m    133\u001b[0m )\n\u001b[1;32m    135\u001b[0m \u001b[39m# Get data dirs from user specified benchmarks\u001b[39;00m\n\u001b[1;32m    136\u001b[0m \u001b[39mif\u001b[39;00m benchmarks \u001b[39mis\u001b[39;00m \u001b[39mnot\u001b[39;00m \u001b[39mNone\u001b[39;00m:\n",
      "File \u001b[0;32m/Library/Frameworks/Python.framework/Versions/3.11/lib/python3.11/site-packages/sklearn/utils/_param_validation.py:211\u001b[0m, in \u001b[0;36mvalidate_params.<locals>.decorator.<locals>.wrapper\u001b[0;34m(*args, **kwargs)\u001b[0m\n\u001b[1;32m    205\u001b[0m \u001b[39mtry\u001b[39;00m:\n\u001b[1;32m    206\u001b[0m     \u001b[39mwith\u001b[39;00m config_context(\n\u001b[1;32m    207\u001b[0m         skip_parameter_validation\u001b[39m=\u001b[39m(\n\u001b[1;32m    208\u001b[0m             prefer_skip_nested_validation \u001b[39mor\u001b[39;00m global_skip_validation\n\u001b[1;32m    209\u001b[0m         )\n\u001b[1;32m    210\u001b[0m     ):\n\u001b[0;32m--> 211\u001b[0m         \u001b[39mreturn\u001b[39;00m func(\u001b[39m*\u001b[39;49margs, \u001b[39m*\u001b[39;49m\u001b[39m*\u001b[39;49mkwargs)\n\u001b[1;32m    212\u001b[0m \u001b[39mexcept\u001b[39;00m InvalidParameterError \u001b[39mas\u001b[39;00m e:\n\u001b[1;32m    213\u001b[0m     \u001b[39m# When the function is just a wrapper around an estimator, we allow\u001b[39;00m\n\u001b[1;32m    214\u001b[0m     \u001b[39m# the function to delegate validation to the estimator, but we replace\u001b[39;00m\n\u001b[1;32m    215\u001b[0m     \u001b[39m# the name of the estimator by the name of the function in the error\u001b[39;00m\n\u001b[1;32m    216\u001b[0m     \u001b[39m# message to avoid confusion.\u001b[39;00m\n\u001b[1;32m    217\u001b[0m     msg \u001b[39m=\u001b[39m re\u001b[39m.\u001b[39msub(\n\u001b[1;32m    218\u001b[0m         \u001b[39mr\u001b[39m\u001b[39m\"\u001b[39m\u001b[39mparameter of \u001b[39m\u001b[39m\\\u001b[39m\u001b[39mw+ must be\u001b[39m\u001b[39m\"\u001b[39m,\n\u001b[1;32m    219\u001b[0m         \u001b[39mf\u001b[39m\u001b[39m\"\u001b[39m\u001b[39mparameter of \u001b[39m\u001b[39m{\u001b[39;00mfunc\u001b[39m.\u001b[39m\u001b[39m__qualname__\u001b[39m\u001b[39m}\u001b[39;00m\u001b[39m must be\u001b[39m\u001b[39m\"\u001b[39m,\n\u001b[1;32m    220\u001b[0m         \u001b[39mstr\u001b[39m(e),\n\u001b[1;32m    221\u001b[0m     )\n",
      "File \u001b[0;32m/Library/Frameworks/Python.framework/Versions/3.11/lib/python3.11/site-packages/sklearn/model_selection/_split.py:2649\u001b[0m, in \u001b[0;36mtrain_test_split\u001b[0;34m(test_size, train_size, random_state, shuffle, stratify, *arrays)\u001b[0m\n\u001b[1;32m   2646\u001b[0m arrays \u001b[39m=\u001b[39m indexable(\u001b[39m*\u001b[39marrays)\n\u001b[1;32m   2648\u001b[0m n_samples \u001b[39m=\u001b[39m _num_samples(arrays[\u001b[39m0\u001b[39m])\n\u001b[0;32m-> 2649\u001b[0m n_train, n_test \u001b[39m=\u001b[39m _validate_shuffle_split(\n\u001b[1;32m   2650\u001b[0m     n_samples, test_size, train_size, default_test_size\u001b[39m=\u001b[39;49m\u001b[39m0.25\u001b[39;49m\n\u001b[1;32m   2651\u001b[0m )\n\u001b[1;32m   2653\u001b[0m \u001b[39mif\u001b[39;00m shuffle \u001b[39mis\u001b[39;00m \u001b[39mFalse\u001b[39;00m:\n\u001b[1;32m   2654\u001b[0m     \u001b[39mif\u001b[39;00m stratify \u001b[39mis\u001b[39;00m \u001b[39mnot\u001b[39;00m \u001b[39mNone\u001b[39;00m:\n",
      "File \u001b[0;32m/Library/Frameworks/Python.framework/Versions/3.11/lib/python3.11/site-packages/sklearn/model_selection/_split.py:2305\u001b[0m, in \u001b[0;36m_validate_shuffle_split\u001b[0;34m(n_samples, test_size, train_size, default_test_size)\u001b[0m\n\u001b[1;32m   2302\u001b[0m n_train, n_test \u001b[39m=\u001b[39m \u001b[39mint\u001b[39m(n_train), \u001b[39mint\u001b[39m(n_test)\n\u001b[1;32m   2304\u001b[0m \u001b[39mif\u001b[39;00m n_train \u001b[39m==\u001b[39m \u001b[39m0\u001b[39m:\n\u001b[0;32m-> 2305\u001b[0m     \u001b[39mraise\u001b[39;00m \u001b[39mValueError\u001b[39;00m(\n\u001b[1;32m   2306\u001b[0m         \u001b[39m\"\u001b[39m\u001b[39mWith n_samples=\u001b[39m\u001b[39m{}\u001b[39;00m\u001b[39m, test_size=\u001b[39m\u001b[39m{}\u001b[39;00m\u001b[39m and train_size=\u001b[39m\u001b[39m{}\u001b[39;00m\u001b[39m, the \u001b[39m\u001b[39m\"\u001b[39m\n\u001b[1;32m   2307\u001b[0m         \u001b[39m\"\u001b[39m\u001b[39mresulting train set will be empty. Adjust any of the \u001b[39m\u001b[39m\"\u001b[39m\n\u001b[1;32m   2308\u001b[0m         \u001b[39m\"\u001b[39m\u001b[39maforementioned parameters.\u001b[39m\u001b[39m\"\u001b[39m\u001b[39m.\u001b[39mformat(n_samples, test_size, train_size)\n\u001b[1;32m   2309\u001b[0m     )\n\u001b[1;32m   2311\u001b[0m \u001b[39mreturn\u001b[39;00m n_train, n_test\n",
      "\u001b[0;31mValueError\u001b[0m: With n_samples=0, test_size=0.2 and train_size=None, the resulting train set will be empty. Adjust any of the aforementioned parameters."
     ]
    }
   ],
   "source": [
    "device = set_device()\n",
    "model = initialize_model(device=device, dbx_access_token=dbx_access_token)\n",
    "\n",
    "train_dataset, val_dataset, benchmark_dataset = create_datasets(\n",
    "    device = device,\n",
    "    include_all_datasets = True\n",
    ")\n",
    "\n",
    "train_dataloader, val_dataloader, benchmark_dataloader = create_dataloaders(\n",
    "    train_dataset = train_dataset,\n",
    "    val_dataset = val_dataset,\n",
    "    benchmark_dataset = benchmark_dataset,\n",
    "    batch_size = batch_size,\n",
    "    val_size = val_size\n",
    ")\n",
    "\n",
    "optimizer = optim.SGD(model.parameters(), lr=0.01, momentum=0.9)\n",
    "criterion = nn.CrossEntropyLoss()"
   ]
  },
  {
   "cell_type": "code",
   "execution_count": null,
   "metadata": {},
   "outputs": [],
   "source": [
    "model, train_loss_hist, val_performance_hist, best_val_performance = training_loop(\n",
    "    model = model,\n",
    "    criterion = criterion,\n",
    "    optimizer = optimizer,\n",
    "    train_dataloader = train_dataloader,\n",
    "    val_dataloader = val_dataloader,\n",
    "    dbx_access_token = dbx_access_token,\n",
    "    num_epochs = num_epochs,\n",
    "    critiqueing_metric = \"Mean Pixel Accuracy\",\n",
    "    auto_stop = False\n",
    ")"
   ]
  },
  {
   "cell_type": "code",
   "execution_count": null,
   "metadata": {},
   "outputs": [],
   "source": [
    "graph_loss_history(train_loss_hist)\n",
    "\n",
    "graph_performance_history(\n",
    "    performance_hist = val_performance_hist,\n",
    "    split = 'Val',\n",
    "    metrics = [\"Mean Pixel Accuracy\", \"Precision\"]\n",
    ")\n",
    "\n",
    "show_sample_results(\n",
    "    model = model,\n",
    "    dataset = train_dataset,\n",
    "    device = device,\n",
    ")"
   ]
  },
  {
   "cell_type": "code",
   "execution_count": null,
   "metadata": {},
   "outputs": [],
   "source": [
    "test_model_on_benchmarks(\n",
    "    model = model,\n",
    "    device = device,\n",
    "    all_benchmarks = True,\n",
    "    report_results = True\n",
    ")"
   ]
  }
 ],
 "metadata": {
  "colab": {
   "provenance": []
  },
  "kernelspec": {
   "display_name": "Python 3",
   "name": "python3"
  },
  "language_info": {
   "codemirror_mode": {
    "name": "ipython",
    "version": 3
   },
   "file_extension": ".py",
   "mimetype": "text/x-python",
   "name": "python",
   "nbconvert_exporter": "python",
   "pygments_lexer": "ipython3",
   "version": "3.11.1"
  }
 },
 "nbformat": 4,
 "nbformat_minor": 0
}
