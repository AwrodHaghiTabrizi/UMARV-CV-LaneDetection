{
 "cells": [
  {
   "cell_type": "markdown",
   "metadata": {},
   "source": [
    "#Import libraries"
   ]
  },
  {
   "cell_type": "code",
   "execution_count": null,
   "metadata": {
    "colab": {
     "base_uri": "https://localhost:8080/"
    },
    "id": "6YXxEdBDMFwU",
    "outputId": "6309c12d-63f7-4f18-c2d3-a4dcdf549342"
   },
   "outputs": [],
   "source": [
    "import os\n",
    "import sys\n",
    "from getpass import getpass\n",
    "import git\n",
    "import dropbox\n",
    "import torch.optim as optim"
   ]
  },
  {
   "cell_type": "markdown",
   "metadata": {},
   "source": [
    "#Configure environment"
   ]
  },
  {
   "cell_type": "code",
   "execution_count": null,
   "metadata": {},
   "outputs": [],
   "source": [
    "os.environ[\"ENVIRONMENT\"] = \"windows\"\n",
    "os.environ[\"REPO_DIR\"] = git.Repo(search_parent_directories=True).git.rev_parse(\"--show-toplevel\")\n",
    "os.environ[\"ROOT_DIR\"] = os.path.abspath(os.path.join(os.getenv(\"REPO_DIR\"), os.pardir))\n",
    "# Insert MODEL_ID here\n",
    "os.environ[\"MODEL_ID\"] = \"\"\n",
    "os.environ[\"MODEL_DIR\"] = f\"{os.getenv('REPO_DIR')}/models/model_{os.getenv('MODEL_ID')}\""
   ]
  },
  {
   "cell_type": "markdown",
   "metadata": {},
   "source": [
    "#Import repository resources"
   ]
  },
  {
   "cell_type": "code",
   "execution_count": null,
   "metadata": {},
   "outputs": [],
   "source": [
    "sys.path.append(f\"{os.getenv('REPO_DIR')}/src\")\n",
    "from helpers import *\n",
    "\n",
    "sys.path.append(f\"{os.getenv('MODEL_DIR')}/src\")\n",
    "from methods import *\n",
    "from architecture import *\n",
    "from dataset import *"
   ]
  },
  {
   "cell_type": "markdown",
   "metadata": {},
   "source": [
    "#Download datasets"
   ]
  },
  {
   "cell_type": "code",
   "execution_count": null,
   "metadata": {},
   "outputs": [],
   "source": [
    "dbx_access_token = getpass(\"Enter your DropBox access token: \")"
   ]
  },
  {
   "cell_type": "code",
   "execution_count": null,
   "metadata": {},
   "outputs": [],
   "source": [
    "# download_datasets_from_dropbox(\n",
    "#     dbx_access_token = dbx_access_token,\n",
    "#     include_all_datasets = True,\n",
    "#     use_thread = True\n",
    "# )"
   ]
  },
  {
   "cell_type": "markdown",
   "metadata": {
    "id": "xh4-Gg6vL2R3"
   },
   "source": [
    "#Code"
   ]
  },
  {
   "cell_type": "code",
   "execution_count": 5,
   "metadata": {
    "id": "0t0BM_lS_6yq"
   },
   "outputs": [],
   "source": [
    "num_epochs = 15\n",
    "batch_size = 32\n",
    "val_size = 50"
   ]
  },
  {
   "cell_type": "code",
   "execution_count": null,
   "metadata": {},
   "outputs": [],
   "source": [
    "device = set_device()\n",
    "model = initialize_model(device=device, dbx_access_token=dbx_access_token)\n",
    "\n",
    "train_dataset, val_dataset, benchmark_dataset = create_datasets(\n",
    "    device = device,\n",
    "    include_all_datasets = True\n",
    ")\n",
    "\n",
    "train_dataloader, val_dataloader, benchmark_dataloader = create_dataloaders(\n",
    "    train_dataset = train_dataset,\n",
    "    val_dataset = val_dataset,\n",
    "    benchmark_dataset = benchmark_dataset,\n",
    "    batch_size = batch_size,\n",
    "    val_size = val_size\n",
    ")\n",
    "\n",
    "optimizer = optim.SGD(model.parameters(), lr=0.01, momentum=0.9)\n",
    "criterion = nn.CrossEntropyLoss()"
   ]
  },
  {
   "cell_type": "code",
   "execution_count": null,
   "metadata": {},
   "outputs": [],
   "source": [
    "model, train_loss_hist, val_performance_hist, best_val_performance = training_loop(\n",
    "    model = model,\n",
    "    criterion = criterion,\n",
    "    optimizer = optimizer,\n",
    "    train_dataloader = train_dataloader,\n",
    "    val_dataloader = val_dataloader,\n",
    "    dbx_access_token = dbx_access_token,\n",
    "    num_epochs = num_epochs,\n",
    "    critiqueing_metric = \"Mean Pixel Accuracy\",\n",
    "    auto_stop = False\n",
    ")"
   ]
  },
  {
   "cell_type": "code",
   "execution_count": null,
   "metadata": {},
   "outputs": [],
   "source": [
    "graph_loss_history(train_loss_hist)\n",
    "\n",
    "graph_performance_history(\n",
    "    performance_hist = val_performance_hist,\n",
    "    split = 'Val',\n",
    "    metrics = [\"Mean Pixel Accuracy\", \"Precision\"]\n",
    ")\n",
    "\n",
    "show_sample_results(\n",
    "    model = model,\n",
    "    dataset = train_dataset,\n",
    "    device = device,\n",
    ")"
   ]
  },
  {
   "cell_type": "code",
   "execution_count": null,
   "metadata": {},
   "outputs": [],
   "source": [
    "test_model_on_benchmarks(\n",
    "    model = model,\n",
    "    device = device,\n",
    "    all_benchmarks = True,\n",
    "    report_results = True\n",
    ")"
   ]
  }
 ],
 "metadata": {
  "colab": {
   "provenance": []
  },
  "kernelspec": {
   "display_name": "Python 3",
   "name": "python3"
  },
  "language_info": {
   "name": "python"
  }
 },
 "nbformat": 4,
 "nbformat_minor": 0
}
