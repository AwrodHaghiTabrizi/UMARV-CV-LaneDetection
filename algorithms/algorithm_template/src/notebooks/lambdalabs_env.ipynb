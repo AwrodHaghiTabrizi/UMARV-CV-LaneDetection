{
 "cells": [
  {
   "cell_type": "markdown",
   "metadata": {},
   "source": [
    "#Import libraries"
   ]
  },
  {
   "cell_type": "code",
   "execution_count": null,
   "metadata": {
    "colab": {
     "base_uri": "https://localhost:8080/"
    },
    "id": "6YXxEdBDMFwU",
    "outputId": "6309c12d-63f7-4f18-c2d3-a4dcdf549342"
   },
   "outputs": [],
   "source": [
    "import os\n",
    "import sys\n",
    "!pip install dropbox > /dev/null\n",
    "import dropbox\n",
    "from getpass import getpass"
   ]
  },
  {
   "cell_type": "markdown",
   "metadata": {},
   "source": [
    "#Configure environment"
   ]
  },
  {
   "cell_type": "code",
   "execution_count": null,
   "metadata": {},
   "outputs": [],
   "source": [
    "os.environ[\"ENVIRONMENT\"] = \"lambda\"\n",
    "os.environ[\"REPO_DIR\"] = \"/home/ubuntu/UMARV-Test-2\"\n",
    "os.environ[\"ROOT_DIR\"] = \"/home/ubuntu\"\n",
    "# Insert ALGORITHM_ID here\n",
    "os.environ[\"ALGORITHM_ID\"] = \"\"\n",
    "os.environ[\"ALGORITHM_DIR\"] = f\"{os.getenv('REPO_DIR')}/algorithms/algorithm_{os.getenv('ALGORITHM_ID')}\""
   ]
  },
  {
   "cell_type": "markdown",
   "metadata": {
    "id": "TWu7wpa8IRD1"
   },
   "source": [
    "#Configure git"
   ]
  },
  {
   "cell_type": "code",
   "execution_count": null,
   "metadata": {
    "colab": {
     "base_uri": "https://localhost:8080/"
    },
    "id": "EXXt5L25_kb6",
    "outputId": "f35ff01b-795d-4866-c9d1-67061edcfa63"
   },
   "outputs": [],
   "source": [
    "# Fill in branch\n",
    "git_branch = \"aht_workspace\" #\"\"\n",
    "\n",
    "while not git_branch:\n",
    "    git_branch = input(\"Enter your branch: \")\n",
    "\n",
    "git_repo_url = \"https://github.com/AwrodHaghiTabrizi/UMARV-Test-2.git\"\n",
    "!git clone -b $git_branch $git_repo_url\n",
    "%cd \"{os.getenv('REPO_DIR')}\""
   ]
  },
  {
   "cell_type": "markdown",
   "metadata": {},
   "source": [
    "#Import repository resources"
   ]
  },
  {
   "cell_type": "code",
   "execution_count": null,
   "metadata": {},
   "outputs": [],
   "source": [
    "sys.path.append(f\"{os.getenv('REPO_DIR')}/src\")\n",
    "from helpers import *\n",
    "\n",
    "sys.path.append(f\"{os.getenv('MODEL_DIR')}/src\")\n",
    "from methods import *\n",
    "from dataset import *\n",
    "from lane_detector import *"
   ]
  },
  {
   "cell_type": "markdown",
   "metadata": {},
   "source": [
    "#Download datasets"
   ]
  },
  {
   "cell_type": "code",
   "execution_count": null,
   "metadata": {},
   "outputs": [],
   "source": [
    "dbx_access_token = getpass(\"Enter your DropBox access token: \")"
   ]
  },
  {
   "cell_type": "code",
   "execution_count": null,
   "metadata": {},
   "outputs": [],
   "source": [
    "download_datasets_from_dropbox(\n",
    "    dbx_access_token = dbx_access_token,\n",
    "    include_all_datasets = True,\n",
    "    use_thread = True\n",
    ")"
   ]
  },
  {
   "cell_type": "markdown",
   "metadata": {
    "id": "xh4-Gg6vL2R3"
   },
   "source": [
    "#Code"
   ]
  },
  {
   "cell_type": "code",
   "execution_count": 5,
   "metadata": {
    "id": "0t0BM_lS_6yq"
   },
   "outputs": [],
   "source": [
    "dataset = create_dataset()"
   ]
  },
  {
   "cell_type": "code",
   "execution_count": null,
   "metadata": {},
   "outputs": [],
   "source": [
    "show_sample_results(dataset)"
   ]
  },
  {
   "cell_type": "code",
   "execution_count": null,
   "metadata": {},
   "outputs": [],
   "source": [
    "test_algorithm_on_benchmarks()"
   ]
  },
  {
   "cell_type": "markdown",
   "metadata": {
    "id": "VrQ0WCEMLLEE"
   },
   "source": [
    "#Push changes (when ready)"
   ]
  },
  {
   "cell_type": "code",
   "execution_count": null,
   "metadata": {},
   "outputs": [],
   "source": [
    "# Fill in user info\n",
    "git_username = \"AwrodHaghiTabrizi\" #\"\"\n",
    "git_email = \"ahaghita@umich.edu\" #\"\"\n",
    "\n",
    "while not git_username:\n",
    "    commit_message = input(\"Username left empty.\\nGitHub username: \")\n",
    "while not git_email:\n",
    "    commit_message = input(\"Email left empty.\\nGitHub email: \")\n",
    "\n",
    "!git config --global user.name $git_username\n",
    "!git config --global user.email $git_email\n",
    "\n",
    "git_access_token = getpass(\"Enter your GitHub access token: \")\n",
    "\n",
    "git_push_url = f\"https://{git_username}:{git_access_token}@{git_repo_url.replace('https://','')}\"\n",
    "\n",
    "commit_message = input(\"Commit message: \")\n",
    "while not commit_message:\n",
    "    commit_message = input(\"Commit message cannot be empty\\nCommit message: \")\n",
    "\n",
    "!git add .\n",
    "!git commit -m \"{commit_message}\"\n",
    "!git push $git_push_url $git_branch"
   ]
  }
 ],
 "metadata": {
  "colab": {
   "provenance": []
  },
  "kernelspec": {
   "display_name": "Python 3",
   "name": "python3"
  },
  "language_info": {
   "name": "python"
  }
 },
 "nbformat": 4,
 "nbformat_minor": 0
}
